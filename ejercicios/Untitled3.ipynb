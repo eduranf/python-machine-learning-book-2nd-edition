{
 "cells": [
  {
   "cell_type": "code",
   "execution_count": 13,
   "metadata": {
    "collapsed": false
   },
   "outputs": [
    {
     "name": "stdout",
     "output_type": "stream",
     "text": [
      "Collecting pickle\n",
      "\u001b[31m  Could not find a version that satisfies the requirement pickle (from versions: )\u001b[0m\n",
      "\u001b[31mNo matching distribution found for pickle\u001b[0m\n",
      "\u001b[33mYou are using pip version 9.0.1, however version 10.0.1 is available.\n",
      "You should consider upgrading via the 'pip install --upgrade pip' command.\u001b[0m\n"
     ]
    }
   ],
   "source": [
    "! pip install  pickle"
   ]
  },
  {
   "cell_type": "code",
   "execution_count": 18,
   "metadata": {
    "collapsed": false
   },
   "outputs": [
    {
     "ename": "ModuleNotFoundError",
     "evalue": "No module named 'StringIO'",
     "output_type": "error",
     "traceback": [
      "\u001b[0;31m---------------------------------------------------------------------------\u001b[0m",
      "\u001b[0;31mModuleNotFoundError\u001b[0m                       Traceback (most recent call last)",
      "\u001b[0;32m<ipython-input-18-9c9cc1806cf0>\u001b[0m in \u001b[0;36m<module>\u001b[0;34m()\u001b[0m\n\u001b[1;32m      9\u001b[0m \u001b[0;32mimport\u001b[0m \u001b[0mgzip\u001b[0m\u001b[0;34m\u001b[0m\u001b[0m\n\u001b[1;32m     10\u001b[0m \u001b[0;32mimport\u001b[0m \u001b[0mjson\u001b[0m\u001b[0;34m\u001b[0m\u001b[0m\n\u001b[0;32m---> 11\u001b[0;31m \u001b[0;32mimport\u001b[0m \u001b[0mStringIO\u001b[0m\u001b[0;34m\u001b[0m\u001b[0m\n\u001b[0m\u001b[1;32m     12\u001b[0m \u001b[0;32mimport\u001b[0m \u001b[0murllib\u001b[0m\u001b[0;34m\u001b[0m\u001b[0m\n\u001b[1;32m     13\u001b[0m \u001b[0;34m\u001b[0m\u001b[0m\n",
      "\u001b[0;31mModuleNotFoundError\u001b[0m: No module named 'StringIO'"
     ]
    }
   ],
   "source": [
    "import pandas as pd\n",
    "from pathlib import Path\n",
    "import os\n",
    "import pickle\n",
    "import numpy as np\n",
    "import gzip\n",
    "import _pickle as cPickle\n",
    "\n",
    "import gzip\n",
    "import json\n",
    "import StringIO\n",
    "import urllib\n",
    "\n",
    "\n",
    "my_file = Path(\"datasets/Users_Tag_Matrix.data.gz\")\n",
    "if not my_file.exists():\n",
    "    url = urllib.urlopen('https://github.com/jaimevalero/github-recommendation-engine/blob/master/Users_Tag_Matrix.data.gz')\n",
    "    url_f = StringIO.StringIO(url.read())\n",
    "    g = gzip.GzipFile(fileobj=url_f)\n",
    "    df = cPickle.load(g)\n",
    "\n",
    "    \n",
    "    #my_external_file = Path(\"https://github.com/jaimevalero/github-recommendation-engine/blob/master/Users_Tag_Matrix.data.gz\")\n",
    "    #with gzip.GzipFile(r\"https://raw.githubusercontent.com/jaimevalero/github-recommendation-engine/master/Users_Tag_Matrix.data.gz\", \"rb\") as input_file:\n",
    "    #    df = cPickle.load( input_file)\n",
    "            \n",
    "    #with gzip.GzipFile(r\"Users_Tag_Matrix.data.gz\", \"wb\") as output_file:\n",
    "    #cPickle.dump(df, output_file)\n",
    "        \n",
    " #   with open(r\"datasets/Users_Tag_Matrix.data.gz\", \"rb\") as input_file:\n",
    " #       df = pickle.load(input_file)\n",
    " #       with gzip.GzipFile(r\"Users_Tag_Matrix.data.gz\", \"rb\") as input_file:\n",
    " #           df = cPickle.load( input_file)\n",
    "            \n",
    "df           \n",
    "  "
   ]
  },
  {
   "cell_type": "code",
   "execution_count": null,
   "metadata": {
    "collapsed": true
   },
   "outputs": [],
   "source": []
  }
 ],
 "metadata": {
  "kernelspec": {
   "display_name": "Python 3",
   "language": "python",
   "name": "python3"
  },
  "language_info": {
   "codemirror_mode": {
    "name": "ipython",
    "version": 3
   },
   "file_extension": ".py",
   "mimetype": "text/x-python",
   "name": "python",
   "nbconvert_exporter": "python",
   "pygments_lexer": "ipython3",
   "version": "3.6.4"
  }
 },
 "nbformat": 4,
 "nbformat_minor": 2
}
